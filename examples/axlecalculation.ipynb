{
 "cells": [
  {
   "cell_type": "markdown",
   "metadata": {
    "collapsed": true
   },
   "source": [
    "# Example axle calculation\n",
    "\n",
    "Illustrate the creation of an axle calculation report. The formula's are mostly based on **Roloff/Matek - Maschinelemente** which can be found here (Springer link)[http://link.springer.com/book/10.1007%2F978-3-658-09082-1]"
   ]
  },
  {
   "cell_type": "code",
   "execution_count": 1,
   "metadata": {
    "collapsed": true
   },
   "outputs": [],
   "source": [
    "import matplotlib.pyplot as pl\n",
    "%matplotlib inline\n",
    "from IPython.display import display, Latex, Math\n",
    "from pymech.units.SI import ureg, Q_\n",
    "\n",
    "import pymech.fmt as fmt\n",
    "from pymech.materials.Steel import Steel\n",
    "from pymech.materials.ApplianceFactor import ApplianceFactor, Bumps\n",
    "from pymech.axle.Properties import Properties\n",
    "from pymech.axle.Axle import Axle"
   ]
  },
  {
   "cell_type": "code",
   "execution_count": 2,
   "metadata": {
    "collapsed": false
   },
   "outputs": [],
   "source": [
    "prop = Properties()\n",
    "prop.geometry = fmt.Geometry(1000)\n",
    "prop.geometry.addpoint(fmt.Point(100, known=False))\n",
    "prop.geometry.addpoint(fmt.Point(500, f=500.))\n",
    "prop.geometry.addweight(fmt.Point(600), fmt.Point(800), 20.)\n",
    "prop.geometry.addpoint(fmt.Point(950, known=False))                     \n",
    "\n",
    "prop.material = Steel()\n",
    "prop.material.load(filename='../pymech/resources/materials/S235JR.mat')\n",
    "prop.appliancefactor = ApplianceFactor(drivingmachine=Bumps.NO_BUMPS, machine=Bumps.LIGHT_BUMPS)\n",
    "\n",
    "axle = Axle(properties=prop)\n",
    "axle.solvegeometry()"
   ]
  },
  {
   "cell_type": "code",
   "execution_count": 3,
   "metadata": {
    "collapsed": false
   },
   "outputs": [
    {
     "data": {
      "image/png": "[encoded data removed]",
      "text/plain": [
       "<matplotlib.figure.Figure at 0x7f8535c46a90>"
      ]
     },
     "metadata": {},
     "output_type": "display_data"
    }
   ],
   "source": [
    "pl.subplot(311)\n",
    "pl.plot(prop.geometry.axle, axle.V)\n",
    "pl.grid(True)\n",
    "pl.title('Vertical shear')\n",
    "pl.ylabel('Force in [N]')\n",
    "pl.ticklabel_format(style='sci', axis='y', scilimits=(0,0))\n",
    "\n",
    "pl.subplot(312)\n",
    "pl.plot(prop.geometry.axle, axle.M)\n",
    "pl.grid(True)\n",
    "pl.title('Bending moments')\n",
    "pl.ylabel('Moment in [Nm]')\n",
    "pl.ticklabel_format(style='sci', axis='y', scilimits=(0,0))\n",
    "\n",
    "pl.subplot(313)\n",
    "pl.plot(prop.geometry.axle, axle.T)\n",
    "pl.grid(True)\n",
    "pl.title('Torque')\n",
    "pl.ylabel('Torque in [Nm]')\n",
    "pl.xlabel('Length in [mm]')\n",
    "pl.ticklabel_format(style='sci', axis='y', scilimits=(0,0))\n",
    "\n",
    "pl.tight_layout()"
   ]
  },
  {
   "cell_type": "code",
   "execution_count": 4,
   "metadata": {
    "collapsed": false
   },
   "outputs": [
    {
     "data": {
      "text/latex": [
       "$\\begin{array}{c}\n",
       "                     M_{b} = K_A \\max(M_{nom}) \\rightarrow 141911.957647 [Nm] = 129010.870588[Nm] \\times 1.1 [-] \\\\\n",
       "                     d^{'} \\approx 3.4 \\sqrt[3]{\\frac{M_{b}}{\\sigma_{bWN}}} \\rightarrow 0.3140950405098899 [m] \\approx 3.4 [m] \\sqrt[3]{\\frac{141911.957647 [Nm]}{180000000.0[Nm]}}\n",
       "                    \\end{array}$"
      ],
      "text/plain": [
       "<IPython.core.display.Latex object>"
      ]
     },
     "execution_count": 4,
     "metadata": {},
     "output_type": "execute_result"
    }
   ],
   "source": [
    "d_prime = axle.d_prime(pretty=True)\n",
    "d_prime[1]"
   ]
  },
  {
   "cell_type": "code",
   "execution_count": 5,
   "metadata": {
    "collapsed": false
   },
   "outputs": [
    {
     "name": "stdout",
     "output_type": "stream",
     "text": [
      "0.3140950405098899 meter\n"
     ]
    }
   ],
   "source": [
    "print(d_prime[0])"
   ]
  },
  {
   "cell_type": "code",
   "execution_count": null,
   "metadata": {
    "collapsed": true
   },
   "outputs": [],
   "source": []
  }
 ],
 "metadata": {
  "kernelspec": {
   "display_name": "Python 3",
   "language": "python",
   "name": "python3"
  },
  "language_info": {
   "codemirror_mode": {
    "name": "ipython",
    "version": 3
   },
   "file_extension": ".py",
   "mimetype": "text/x-python",
   "name": "python",
   "nbconvert_exporter": "python",
   "pygments_lexer": "ipython3",
   "version": "3.6.0"
  }
 },
 "nbformat": 4,
 "nbformat_minor": 0
}
